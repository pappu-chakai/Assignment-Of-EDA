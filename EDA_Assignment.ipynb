{
  "nbformat": 4,
  "nbformat_minor": 0,
  "metadata": {
    "colab": {
      "provenance": []
    },
    "kernelspec": {
      "name": "python3",
      "display_name": "Python 3"
    },
    "language_info": {
      "name": "python"
    }
  },
  "cells": [
    {
      "cell_type": "markdown",
      "source": [
        "**EDA -1 **"
      ],
      "metadata": {
        "id": "2ADZtTSKPfpZ"
      }
    },
    {
      "cell_type": "markdown",
      "source": [
        "Q1. What is the range of selling prices in the dataset?"
      ],
      "metadata": {
        "id": "bdQwuy1LShf8"
      }
    },
    {
      "cell_type": "code",
      "source": [
        "import pandas as pd\n",
        "\n",
        "# Assuming your data is in a Excel file named 'Your BIKE DETAILS'\n",
        "# Replace 'your_Bike Details' with the actual file name\n",
        "try:\n",
        "    df = pd.read_csv('your_data.csv') # That is database data file name put ={BIKE DETAILS (Excel file)}\n",
        "    min_price = df['Selling_Price'].min() # That is database data name = (selling_price)\n",
        "    max_price = df['Selling_Price'].max() # That is database data name = (selling_price)\n",
        "    print(f\"The range of selling prices is from {min_price} to {max_price}\")\n",
        "\n",
        "except FileNotFoundError:\n",
        "    print(\"Error: 'your_data.csv' not found. Please upload the file or provide the correct file path.\")\n",
        "except KeyError:\n",
        "    print(\"Error: 'Selling_Price' column not found in the dataframe. Check your column names.\")\n",
        "except Exception as e:\n",
        "    print(f\"An unexpected error occurred: {e}\")\n"
      ],
      "metadata": {
        "colab": {
          "base_uri": "https://localhost:8080/"
        },
        "id": "UueP1A_bPjx9",
        "outputId": "4f885cd3-76f9-4051-fb95-cf9b7378f65f"
      },
      "execution_count": null,
      "outputs": [
        {
          "output_type": "stream",
          "name": "stdout",
          "text": [
            "Error: 'your_data.csv' not found. Please upload the file or provide the correct file path.\n"
          ]
        }
      ]
    },
    {
      "cell_type": "markdown",
      "source": [
        "Q2. What is the median selling price for bikes in the dataset?"
      ],
      "metadata": {
        "id": "MR5FOg7DSnYf"
      }
    },
    {
      "cell_type": "code",
      "source": [
        "# Assuming your data is in a Excel file named 'Your BIKE DETAILS'\n",
        "# Replace 'your_Bike Details' with the actual file name\n",
        "\n",
        "try:\n",
        "    median_price = df['Selling_Price'].median() # That is database data name = (selling_price)\n",
        "    print(f\"The median selling price is: {median_price}\") # That is database data name = (selling_price)\n",
        "except NameError:\n",
        "    print(\"Error: 'df' DataFrame not found. Please run the previous code block to load the data.\")\n",
        "except KeyError:\n",
        "    print(\"Error: 'Selling_Price' column not found in the DataFrame. Check your column names.\")\n",
        "except Exception as e:\n",
        "    print(f\"An unexpected error occurred: {e}\")\n"
      ],
      "metadata": {
        "colab": {
          "base_uri": "https://localhost:8080/"
        },
        "id": "M-w8KGRET-xr",
        "outputId": "2cc00a29-5c92-4dc7-d717-5cba7538352a"
      },
      "execution_count": null,
      "outputs": [
        {
          "output_type": "stream",
          "name": "stdout",
          "text": [
            "Error: 'df' DataFrame not found. Please run the previous code block to load the data.\n"
          ]
        }
      ]
    },
    {
      "cell_type": "markdown",
      "source": [
        "Q3. What is the most common seller type?\n"
      ],
      "metadata": {
        "id": "mnjjO7Q8ULpo"
      }
    },
    {
      "cell_type": "code",
      "source": [
        "# Assuming your data is in a Excel file named 'Your BIKE DETAILS'\n",
        "# Replace 'your_Bike Details' with the actual file name\n",
        "\n",
        "try:\n",
        "    seller_type_counts = df['Seller_Type'].value_counts() # That is database data name = (Selling_Type)\n",
        "    most_common_seller_type = seller_type_counts.index[0]\n",
        "    print(f\"The most common seller type is: {most_common_seller_type}\") # That is database data name = (# That is database data name = (selling_price))\n",
        "except NameError:\n",
        "    print(\"Error: 'df' DataFrame not found. Please run the previous code block to load the data.\")\n",
        "except KeyError:\n",
        "    print(\"Error: 'Seller_Type' column not found in the DataFrame. Check your column names.\")\n",
        "except Exception as e:\n",
        "    print(f\"An unexpected error occurred: {e}\")\n"
      ],
      "metadata": {
        "colab": {
          "base_uri": "https://localhost:8080/"
        },
        "id": "WKe60H2DUTXX",
        "outputId": "b54b78be-bd34-4544-cf3e-20a7f04f6c6d"
      },
      "execution_count": null,
      "outputs": [
        {
          "output_type": "stream",
          "name": "stdout",
          "text": [
            "Error: 'df' DataFrame not found. Please run the previous code block to load the data.\n"
          ]
        }
      ]
    },
    {
      "cell_type": "markdown",
      "source": [
        "Q4. How many bikes have driven more than 50,000 kilometers?"
      ],
      "metadata": {
        "id": "DJ1hUb-NUvu6"
      }
    },
    {
      "cell_type": "code",
      "source": [
        "# Assuming your data is in a Excel file named 'Your BIKE DETAILS'\n",
        "# Replace 'your_Bike Details' with the actual file name\n",
        "\n",
        "try:\n",
        "    bikes_over_50k = len(df[df['Kms_Driven'] > 50000]) # That is database data name = (Kms_Driven)\n",
        "    print(f\"The number of bikes that have driven more than 50,000 kilometers is: {bikes_over_50k}\")\n",
        "except NameError:\n",
        "    print(\"Error: 'df' DataFrame not found. Please run the previous code block to load the data.\")\n",
        "except KeyError:\n",
        "    print(\"Error: 'Kms_Driven' column not found in the DataFrame. Check your column names.\")\n",
        "except Exception as e:\n",
        "    print(f\"An unexpected error occurred: {e}\")\n"
      ],
      "metadata": {
        "colab": {
          "base_uri": "https://localhost:8080/"
        },
        "id": "UCO8nWyaU1RY",
        "outputId": "42849e27-9656-4e33-96d5-17c1e1cef019"
      },
      "execution_count": null,
      "outputs": [
        {
          "output_type": "stream",
          "name": "stdout",
          "text": [
            "Error: 'df' DataFrame not found. Please run the previous code block to load the data.\n"
          ]
        }
      ]
    },
    {
      "cell_type": "markdown",
      "source": [
        "Q5.What is the average km_driven value for each ownership type?"
      ],
      "metadata": {
        "id": "vJkSbDp-VSJk"
      }
    },
    {
      "cell_type": "code",
      "source": [
        "# Assuming your data is in a Excel file named 'Your BIKE DETAILS'\n",
        "# Replace 'your_Bike Details' with the actual file name\n",
        "\n",
        "try:\n",
        "    average_km_by_ownership = df.groupby('Owner_Type')['Kms_Driven'].mean() # That is database data name = (owner) [Kms_Driven]\n",
        "    print(average_km_by_ownership)\n",
        "except NameError:\n",
        "    print(\"Error: 'df' DataFrame not found. Please run the previous code block to load the data.\")\n",
        "except KeyError:\n",
        "    print(\"Error: 'Owner_Type' or 'Kms_Driven' column not found in the DataFrame. Check your column names.\")\n",
        "except Exception as e:\n",
        "    print(f\"An unexpected error occurred: {e}\")\n"
      ],
      "metadata": {
        "colab": {
          "base_uri": "https://localhost:8080/"
        },
        "id": "1_ZB_q3HVWy4",
        "outputId": "f71b8798-6a2b-4112-eb24-d5737a87227b"
      },
      "execution_count": null,
      "outputs": [
        {
          "output_type": "stream",
          "name": "stdout",
          "text": [
            "Error: 'df' DataFrame not found. Please run the previous code block to load the data.\n"
          ]
        }
      ]
    },
    {
      "cell_type": "markdown",
      "source": [
        "Q6.What proportion of bikes are from the year 2015 or older?"
      ],
      "metadata": {
        "id": "yLQYEhm8Vv3q"
      }
    },
    {
      "cell_type": "code",
      "source": [
        "# Assuming your data is in a Excel file named 'Your BIKE DETAILS'\n",
        "# Replace 'your_Bike Details' with the actual file name\n",
        "\n",
        "try:\n",
        "    proportion_2015_older = len(df[df['year'] <= 2015]) / len(df) # That is database data name = owner\n",
        "    print(f\"The proportion of bikes from 2015 or older is: {proportion_2015_older}\")\n",
        "except NameError:\n",
        "    print(\"Error: 'df' DataFrame not found. Please run the previous code block to load the data.\")\n",
        "except KeyError:\n",
        "    print(\"Error: 'year' column not found in the DataFrame. Check your column names.\")\n",
        "except Exception as e:\n",
        "    print(f\"An unexpected error occurred: {e}\")\n"
      ],
      "metadata": {
        "colab": {
          "base_uri": "https://localhost:8080/"
        },
        "id": "tzICAG1BV0ls",
        "outputId": "5d9d8588-963a-4611-9350-fded906e5716"
      },
      "execution_count": null,
      "outputs": [
        {
          "output_type": "stream",
          "name": "stdout",
          "text": [
            "Error: 'df' DataFrame not found. Please run the previous code block to load the data.\n"
          ]
        }
      ]
    },
    {
      "cell_type": "markdown",
      "source": [
        "Q7.What is the trend of missing values across the dataset?"
      ],
      "metadata": {
        "id": "WyPYGM3GWMx5"
      }
    },
    {
      "cell_type": "code",
      "source": [
        "# Assuming your data is in a Excel file named 'Your BIKE DETAILS'\n",
        "# Replace 'your_Bike Details' with the actual file name\n",
        "\n",
        "try:\n",
        "    missing_values = df.isnull().sum()\n",
        "    print(missing_values)\n",
        "except NameError:\n",
        "    print(\"Error: 'df' DataFrame not found. Please run the previous code block to load the data.\")\n",
        "except Exception as e:\n",
        "    print(f\"An unexpected error occurred: {e}\")\n"
      ],
      "metadata": {
        "colab": {
          "base_uri": "https://localhost:8080/"
        },
        "id": "M_cGm_f2WR7Z",
        "outputId": "cf543efc-f688-4928-cc67-f0d6813a30d2"
      },
      "execution_count": null,
      "outputs": [
        {
          "output_type": "stream",
          "name": "stdout",
          "text": [
            "Error: 'df' DataFrame not found. Please run the previous code block to load the data.\n"
          ]
        }
      ]
    },
    {
      "cell_type": "markdown",
      "source": [
        "Q8.What is the highest ex_showroom_price recorded, and for which bike?"
      ],
      "metadata": {
        "id": "ZrxQb12oWm4p"
      }
    },
    {
      "cell_type": "code",
      "source": [
        "# Assuming your data is in a Excel file named 'Your BIKE DETAILS'\n",
        "# Replace 'your_Bike Details' with the actual file name\n",
        "\n",
        "try:\n",
        "    # Find the highest ex_showroom_price and the corresponding bike details\n",
        "    highest_price_row = df.loc[df['ex_showroom_price'].idxmax()]\n",
        "    highest_price = highest_price_row['ex_showroom_price']\n",
        "    bike_name = highest_price_row['name']  # Assuming 'ex_showroom_price' column represents the bike name\n",
        "\n",
        "    print(f\"The highest ex_showroom_price is {highest_price} for the {bike_name} bike.\") # That is databade bike name= name\n",
        "\n",
        "except KeyError:\n",
        "    print(\"Error: 'ex_showroom_price' or 'name' column not found. Please check your column names.\")\n",
        "except Exception as e:\n",
        "    print(f\"An unexpected error occurred: {e}\")\n"
      ],
      "metadata": {
        "colab": {
          "base_uri": "https://localhost:8080/"
        },
        "id": "_a4FuP0dWrmE",
        "outputId": "8e76fb9b-27b2-4f79-fe27-fdf0629a36e4"
      },
      "execution_count": null,
      "outputs": [
        {
          "output_type": "stream",
          "name": "stdout",
          "text": [
            "An unexpected error occurred: name 'df' is not defined\n"
          ]
        }
      ]
    },
    {
      "cell_type": "markdown",
      "source": [
        "Q9. What is the total number of bikes listed by each seller type?"
      ],
      "metadata": {
        "id": "-iGYWS0tXFZI"
      }
    },
    {
      "cell_type": "code",
      "source": [
        "# Assuming your data is in a Excel file named 'Your BIKE DETAILS'\n",
        "# Replace 'your_Bike Details' with the actual file name\n",
        "\n",
        "try:\n",
        "    seller_type_counts = df.groupby('Seller_Type')['Seller_Type'].count() # Assuming 'Seller_type' column represents the bike Seller_Type\n",
        "    print(seller_type_counts)\n",
        "except NameError:\n",
        "    print(\"Error: 'df' DataFrame not found. Please run the previous code block to load the data.\")\n",
        "except KeyError:\n",
        "    print(\"Error: 'Seller_Type' column not found in the DataFrame. Check your column names.\")\n",
        "except Exception as e:\n",
        "    print(f\"An unexpected error occurred: {e}\")\n"
      ],
      "metadata": {
        "colab": {
          "base_uri": "https://localhost:8080/"
        },
        "id": "eSWaOQI0XNN6",
        "outputId": "92972089-5037-4e5c-d5d3-bda2b9516b2a"
      },
      "execution_count": null,
      "outputs": [
        {
          "output_type": "stream",
          "name": "stdout",
          "text": [
            "Error: 'df' DataFrame not found. Please run the previous code block to load the data.\n"
          ]
        }
      ]
    },
    {
      "cell_type": "markdown",
      "source": [
        "Q10. What is the relationship between selling_price and km_driven for first-owner bikes?"
      ],
      "metadata": {
        "id": "kVL_YVHAXmza"
      }
    },
    {
      "cell_type": "code",
      "source": [
        "# Assuming your data is in a Excel file named 'Your BIKE DETAILS'\n",
        "# Replace 'your_Bike Details' with the actual file name\n",
        "\n",
        "try:\n",
        "    first_owner_bikes = df[df['Owner_Type'] == 'First Owner'] # Assuming 'owner' column represents the BIKE DTABASE\n",
        "    correlation = first_owner_bikes['Selling_Price'].corr(first_owner_bikes['Kms_Driven'])\n",
        "    print(f\"The correlation between selling price and km_driven for first-owner bikes is: {correlation}\")\n",
        "except KeyError:\n",
        "    print(\"Error: 'Owner_Type', 'Selling_Price', or 'Kms_Driven' column not found. Please check your column names.\")\n",
        "except Exception as e:\n",
        "    print(f\"An unexpected error occurred: {e}\")\n"
      ],
      "metadata": {
        "colab": {
          "base_uri": "https://localhost:8080/"
        },
        "id": "dWFZ_PzDXsO4",
        "outputId": "eff866a1-363f-43e2-c2b5-0d7ae1a4dd42"
      },
      "execution_count": null,
      "outputs": [
        {
          "output_type": "stream",
          "name": "stdout",
          "text": [
            "An unexpected error occurred: name 'df' is not defined\n"
          ]
        }
      ]
    },
    {
      "cell_type": "markdown",
      "source": [
        "Q11.B Identify and remove outliers in the km_driven column using the IQR method?"
      ],
      "metadata": {
        "id": "k4jTP8qYYGSg"
      }
    },
    {
      "cell_type": "code",
      "source": [
        "# Assuming your data is in a Excel file named 'Your BIKE DETAILS'\n",
        "# Replace 'your_Bike Details' with the actual file name\n",
        "\n",
        "import pandas as pd\n",
        "\n",
        "try:\n",
        "    Q1 = df['Kms_Driven'].quantile(0.25)\n",
        "    Q3 = df['Kms_Driven'].quantile(0.75)\n",
        "    IQR = Q3 - Q1\n",
        "    lower_bound = Q1 - 1.5 * IQR\n",
        "    upper_bound = Q3 + 1.5 * IQR\n",
        "\n",
        "    # Remove outliers\n",
        "    df_no_outliers = df[(df['Kms_Driven'] >= lower_bound) & (df['Kms_Driven'] <= upper_bound)] # Assuming 'km_driven' column represents the BIKE DTABASE\n",
        "\n",
        "    print(\"Outliers removed from 'Kms_Driven' column.\")\n",
        "    # You can now work with the BIKE DATABASE DataFrame which has outliers removed\n",
        "\n",
        "except KeyError:\n",
        "    print(\"Error: 'Kms_Driven' column not found in the DataFrame. Please check your column names.\")\n",
        "except Exception as e:\n",
        "    print(f\"An unexpected error occurred: {e}\")\n"
      ],
      "metadata": {
        "id": "e72_xYo9YKaI"
      },
      "execution_count": null,
      "outputs": []
    },
    {
      "cell_type": "markdown",
      "source": [
        "Q12. Perform a bivariate analysis to visualize the relationship between year and selling_price?"
      ],
      "metadata": {
        "id": "Nc2uO5N6YrBw"
      }
    },
    {
      "cell_type": "code",
      "source": [
        "# Assuming your data is in a Excel file named 'Your BIKE DETAILS'\n",
        "# Replace 'your_Bike Details' with the actual file name\n",
        "\n",
        "import matplotlib.pyplot as plt\n",
        "import seaborn as sns\n",
        "\n",
        "try:\n",
        "    plt.figure(figsize=(10, 6))\n",
        "    sns.scatterplot(x='year', y='Selling_Price', data=df) # Assuming 'Selling_Price','year' column represents the BIKE DTABASE\n",
        "    plt.title('Relationship between Year and Selling Price')\n",
        "    plt.xlabel('Year')\n",
        "    plt.ylabel('Selling Price')\n",
        "    plt.show()\n",
        "\n",
        "except NameError:\n",
        "    print(\"Error: 'df' DataFrame not found. Please run the previous code block to load the data.\")\n",
        "except KeyError:\n",
        "    print(\"Error: 'year' or 'Selling_Price' column not found in the DataFrame. Check your column names.\")\n",
        "except Exception as e:\n",
        "    print(f\"An unexpected error occurred: {e}\")\n"
      ],
      "metadata": {
        "colab": {
          "base_uri": "https://localhost:8080/",
          "height": 54
        },
        "id": "ddJQ_oPXYv_j",
        "outputId": "7168a801-6161-4a34-a602-ea149b4d87fe"
      },
      "execution_count": null,
      "outputs": [
        {
          "output_type": "stream",
          "name": "stdout",
          "text": [
            "Error: 'df' DataFrame not found. Please run the previous code block to load the data.\n"
          ]
        },
        {
          "output_type": "display_data",
          "data": {
            "text/plain": [
              "<Figure size 1000x600 with 0 Axes>"
            ]
          },
          "metadata": {}
        }
      ]
    },
    {
      "cell_type": "markdown",
      "source": [
        "Q13. What is the average depreciation in selling price based on the bike's age (current year - manufacturing\n",
        "year)?"
      ],
      "metadata": {
        "id": "ayIcPZmQZRZr"
      }
    },
    {
      "cell_type": "code",
      "source": [
        "# Assuming your data is in a Excel file named 'Your BIKE DETAILS'\n",
        "# Replace 'your_Bike Details' with the actual file name\n",
        "\n",
        "try:\n",
        "    # Calculate the age of each bike\n",
        "    current_year = 2023  # Replace with the current year\n",
        "    df['Bike_Age'] = current_year - df['year']\n",
        "\n",
        "    # Calculate the average depreciation for each age group\n",
        "    average_depreciation_by_age = df.groupby('Bike_Age')['Selling_Price'].mean() # Assuming current year - manufacturing year,'Selling_price' column represents the BIKE DTABASE\n",
        "\n",
        "    print(average_depreciation_by_age)\n",
        "\n",
        "except KeyError:\n",
        "    print(\"Error: 'year' or 'Selling_Price' column not found. Please check your column names.\")\n",
        "except Exception as e:\n",
        "    print(f\"An unexpected error occurred: {e}\")\n"
      ],
      "metadata": {
        "colab": {
          "base_uri": "https://localhost:8080/"
        },
        "id": "XFFDDTVOZWY_",
        "outputId": "104e3080-c816-433a-8138-c2e52a1a247a"
      },
      "execution_count": null,
      "outputs": [
        {
          "output_type": "stream",
          "name": "stdout",
          "text": [
            "An unexpected error occurred: name 'df' is not defined\n"
          ]
        }
      ]
    },
    {
      "cell_type": "markdown",
      "source": [
        "Q14. Which bike names are priced significantly above the average price for their manufacturing year?"
      ],
      "metadata": {
        "id": "apunm08GZx0M"
      }
    },
    {
      "cell_type": "code",
      "source": [
        "# Assuming your data is in a Excel file named 'Your BIKE DETAILS'\n",
        "# Replace 'your_Bike Details' with the actual file name\n",
        "\n",
        "try:\n",
        "    # Calculate the average selling_price for each year\n",
        "    average_price_by_year = df.groupby('year')['Selling_Price'].mean()\n",
        "\n",
        "    # Merge the average price back into the original BIKE DETAILS\n",
        "    df = df.merge(average_price_by_year, on='year', suffixes=('', '_avg'))\n",
        "\n",
        "    # Identify bikes with prices significantly above the average for their year\n",
        "    # Define a threshold (e.g., 1.5 times the average price)\n",
        "    threshold = 1.5\n",
        "    significantly_above_average = df[df['Selling_Price'] > threshold * df['Selling_Price_avg']]\n",
        "\n",
        "    # Print the names of the bikes\n",
        "    print(significantly_above_average['name'])\n",
        "\n",
        "except KeyError:\n",
        "    print(\"Error: 'year', 'Selling_Price', or 'name' column not found. Please check your column names.\")\n",
        "except Exception as e:\n",
        "    print(f\"An unexpected error occurred: {e}\")\n"
      ],
      "metadata": {
        "colab": {
          "base_uri": "https://localhost:8080/"
        },
        "id": "mbNqYff8Z2IF",
        "outputId": "caffe352-264a-4e3f-9c11-c1cd40759790"
      },
      "execution_count": null,
      "outputs": [
        {
          "output_type": "stream",
          "name": "stdout",
          "text": [
            "An unexpected error occurred: name 'df' is not defined\n"
          ]
        }
      ]
    },
    {
      "cell_type": "markdown",
      "source": [
        "Q15. Develop a correlation matrix for numeric columns and visualize it using a heatmap?"
      ],
      "metadata": {
        "id": "LTLxjczraItd"
      }
    },
    {
      "cell_type": "code",
      "source": [
        "# Assuming your data is in a Excel file named 'Your BIKE DETAILS'\n",
        "# Replace 'your_Bike Details' with the actual file name\n",
        "\n",
        "try:\n",
        "    # Calculate the correlation matrix for numeric columns\n",
        "    numeric_cols = df.select_dtypes(include=['number'])\n",
        "    correlation_matrix = numeric_cols.corr()\n",
        "\n",
        "    # Visualize the correlation matrix using a heatmap\n",
        "    plt.figure(figsize=(12, 8))\n",
        "    sns.heatmap(correlation_matrix, annot=True, cmap='coolwarm', fmt=\".2f\")\n",
        "    plt.title('Correlation Matrix of Numeric Columns')\n",
        "    plt.show()\n",
        "\n",
        "except NameError:\n",
        "    print(\"Error: 'df' DataFrame not found. Please make sure you have loaded the data correctly.\")\n",
        "except Exception as e:\n",
        "    print(f\"An unexpected error occurred: {e}\")"
      ],
      "metadata": {
        "colab": {
          "base_uri": "https://localhost:8080/"
        },
        "id": "E8tL5fAIaajE",
        "outputId": "b8595ac6-9216-43aa-f67c-04ceace7b6db"
      },
      "execution_count": null,
      "outputs": [
        {
          "output_type": "stream",
          "name": "stdout",
          "text": [
            "Error: 'df' DataFrame not found. Please make sure you have loaded the data correctly.\n"
          ]
        }
      ]
    },
    {
      "cell_type": "markdown",
      "source": [
        "**EDA - 2**"
      ],
      "metadata": {
        "id": "0aV4G4O4as2K"
      }
    },
    {
      "cell_type": "markdown",
      "source": [
        "Q1. What is the average selling price of cars for each dealer, and how does it compare across different dealers?"
      ],
      "metadata": {
        "id": "jjDPhV5hay4H"
      }
    },
    {
      "cell_type": "code",
      "source": [
        "# Assuming your data is in a Excel file named 'Your Car Sale'\n",
        "# Replace 'your_Car Sale' with the actual file name\n",
        "try:\n",
        "    # Calculate the average selling_price for each Dealer_Name\n",
        "    average_price_by_dealer = df.groupby('dealer')['Selling_Price'].mean() # Assuming Dealer_Name,'Seller_price' column represents the (Car Sale)\n",
        "\n",
        "    # Print the average selling_price for each Dealer_Name\n",
        "    print(average_price_by_dealer)\n",
        "\n",
        "    # Visualize the comparison of average selling_prices across Dealer_Name (optional)\n",
        "    plt.figure(figsize=(10, 6))\n",
        "    average_price_by_dealer.plot(kind='bar')\n",
        "    plt.title('Average Selling Price by Dealer')\n",
        "    plt.xlabel('Dealer')\n",
        "    plt.ylabel('Average Selling Price')\n",
        "    plt.xticks(rotation=45)  # Rotate x-axis labels for better readability\n",
        "    plt.tight_layout()  # Adjust layout to prevent labels from overlapping\n",
        "    plt.show()\n",
        "\n",
        "except KeyError:\n",
        "    print(\"Error: 'dealer' or 'Selling_Price' column not found. Please check your column names.\")\n",
        "except Exception as e:\n",
        "    print(f\"An unexpected error occurred: {e}\")\n"
      ],
      "metadata": {
        "colab": {
          "base_uri": "https://localhost:8080/"
        },
        "id": "305sdKbjbUTq",
        "outputId": "bbe94e0d-85fc-4eb5-9ca0-ae9de07fd237"
      },
      "execution_count": null,
      "outputs": [
        {
          "output_type": "stream",
          "name": "stdout",
          "text": [
            "An unexpected error occurred: name 'df' is not defined\n"
          ]
        }
      ]
    },
    {
      "cell_type": "markdown",
      "source": [
        "Q2.Which car brand (Company) has the highest variation in prices, and what does this tell us about the pricing\n",
        "trends?"
      ],
      "metadata": {
        "id": "ZUsp4X7QcXrE"
      }
    },
    {
      "cell_type": "code",
      "source": [
        "# Assuming your data is in a Excel file named 'Your Car Sale'\n",
        "# Replace 'your_Car Sale' with the actual file name\n",
        "\n",
        "try:\n",
        "    # Calculate the price variation for each car brand\n",
        "    price_variation_by_brand = df.groupby('Company')['Selling_Price'].std() # Assuming Company,'Seller_price' column represents the (Car Sale)\n",
        "\n",
        "    # Find the brand with the highest price variation\n",
        "    brand_with_highest_variation = price_variation_by_brand.idxmax()\n",
        "    highest_variation = price_variation_by_brand.max()\n",
        "\n",
        "    print(f\"The car brand with the highest price variation is {brand_with_highest_variation} with a standard deviation of {highest_variation}.\")\n",
        "\n",
        "    # Interpretation of pricing trends\n",
        "    print(f\"\\nA high price variation for {brand_with_highest_variation} suggests a diverse range of models or configurations available at different price points. This might indicate that the brand offers both budget-friendly and luxury options, or there might be significant differences in mileage, features, or age affecting the price.  Further investigation would be needed to pinpoint the specific factors contributing to this wide range.\")\n",
        "\n",
        "except KeyError:\n",
        "    print(\"Error: 'Company' or 'Selling_Price' column not found. Please check your column names.\")\n",
        "except Exception as e:\n",
        "    print(f\"An unexpected error occurred: {e}\")\n"
      ],
      "metadata": {
        "colab": {
          "base_uri": "https://localhost:8080/"
        },
        "id": "U_rSTaMvcbfy",
        "outputId": "a650ac6b-0338-4c48-bcff-55ac84b8708e"
      },
      "execution_count": null,
      "outputs": [
        {
          "output_type": "stream",
          "name": "stdout",
          "text": [
            "An unexpected error occurred: name 'df' is not defined\n"
          ]
        }
      ]
    },
    {
      "cell_type": "markdown",
      "source": [
        "Q3.What is the distribution of car prices for each transmission type, and how do the interquartile ranges\n",
        "compare?"
      ],
      "metadata": {
        "id": "gH3ViFKUdOq5"
      }
    },
    {
      "cell_type": "code",
      "source": [
        "# Assuming your data is in a Excel file named 'Your Car Sale'\n",
        "# Replace 'your_Car Sale' with the actual file name\n",
        "\n",
        "try:\n",
        "    # Calculate descriptive statistics for car_prices by transmission type\n",
        "    price_stats_by_transmission = df.groupby('Transmission')['Selling_Price'].describe() #  # Assuming Company Transmission,'Seller_price' column represents the (Car Sale)Transmission\n",
        "\n",
        "    print(price_stats_by_transmission)\n",
        "\n",
        "    # Extract IQRs for comparison\n",
        "    iqr_manual = price_stats_by_transmission.loc['Manual', '75%'] - price_stats_by_transmission.loc['Manual', '25%']\n",
        "    iqr_automatic = price_stats_by_transmission.loc['Automatic', '75%'] - price_stats_by_transmission.loc['Automatic', '25%']\n",
        "\n",
        "    print(f\"\\nInterquartile Range (IQR) for Manual Transmission: {iqr_manual}\")\n",
        "    print(f\"Interquartile Range (IQR) for Automatic Transmission: {iqr_automatic}\")\n",
        "\n",
        "    # Visualization (optional): Box plots for car prices by transmission\n",
        "    plt.figure(figsize=(8, 6))\n",
        "    sns.boxplot(x='Transmission', y='Selling_Price', data=df)\n",
        "    plt.title('Distribution of Car Prices by Transmission Type')\n",
        "    plt.xlabel('Transmission Type')\n",
        "    plt.ylabel('Selling Price')\n",
        "    plt.show()\n",
        "\n",
        "except KeyError:\n",
        "    print(\"Error: 'Transmission' or 'Selling_Price' column not found. Please check your column names.\")\n",
        "except Exception as e:\n",
        "    print(f\"An unexpected error occurred: {e}\")\n"
      ],
      "metadata": {
        "colab": {
          "base_uri": "https://localhost:8080/"
        },
        "id": "9dNW5NXYdT9k",
        "outputId": "57c70836-cb6e-4ce3-c5f1-b694bd26ab64"
      },
      "execution_count": null,
      "outputs": [
        {
          "output_type": "stream",
          "name": "stdout",
          "text": [
            "An unexpected error occurred: name 'df' is not defined\n"
          ]
        }
      ]
    },
    {
      "cell_type": "markdown",
      "source": [
        "Q4.What is the distribution of car prices across different regions?"
      ],
      "metadata": {
        "id": "4brYwUfYe3p0"
      }
    },
    {
      "cell_type": "code",
      "source": [
        "# Assuming your data is in a Excel file named 'Your Car Sale'\n",
        "# Replace 'your_Car Sale' with the actual file name\n",
        "\n",
        "try:\n",
        "    # Calculate descriptive statistics for (car_prices) by (Dealer_Region)\n",
        "    price_stats_by_region = df.groupby('Location')['Selling_Price'].describe()\n",
        "\n",
        "    print(price_stats_by_region)\n",
        "\n",
        "    # Visualization (optional): Box plots for (car_prices) by (Dealer_Region)\n",
        "    plt.figure(figsize=(12, 6))  # Adjust figure size for better readability\n",
        "    sns.boxplot(x='Location', y='Selling_Price', data=df)\n",
        "    plt.title('Distribution of Car Prices Across Different Regions')\n",
        "    plt.xlabel('Region')\n",
        "    plt.ylabel('Selling Price')\n",
        "    plt.xticks(rotation=45, ha='right')  # Rotate x-axis labels and align them\n",
        "    plt.tight_layout()  # Adjust layout to prevent labels from overlapping\n",
        "    plt.show()\n",
        "\n",
        "except KeyError:\n",
        "    print(\"Error: 'Location' or 'Selling_Price' column not found. Please check your column names.\")\n",
        "except Exception as e:\n",
        "    print(f\"An unexpected error occurred: {e}\")\n"
      ],
      "metadata": {
        "colab": {
          "base_uri": "https://localhost:8080/"
        },
        "id": "T3G8Ro4je7yT",
        "outputId": "dd26cf77-22ab-4561-ab3f-689663e423e5"
      },
      "execution_count": null,
      "outputs": [
        {
          "output_type": "stream",
          "name": "stdout",
          "text": [
            "An unexpected error occurred: name 'df' is not defined\n"
          ]
        }
      ]
    },
    {
      "cell_type": "markdown",
      "source": [
        "Q5.What is the distribution of cars based on body styles?"
      ],
      "metadata": {
        "id": "wiw3H2c6fcuA"
      }
    },
    {
      "cell_type": "code",
      "source": [
        "# Assuming your data is in a Excel file named 'Your Car Sale'\n",
        "# Replace 'your_Car Sale' with the actual file name\n",
        "\n",
        "try:\n",
        "    # Calculate the count of cars for each (Body Style)\n",
        "    body_style_counts = df['body_style'].value_counts()\n",
        "\n",
        "    print(body_style_counts)\n",
        "\n",
        "    # Visualization (optional): Bar plot for (Body style) distribution\n",
        "    plt.figure(figsize=(10, 6))\n",
        "    body_style_counts.plot(kind='bar')\n",
        "    plt.title('Distribution of Cars Based on Body Styles')\n",
        "    plt.xlabel('Body Style')\n",
        "    plt.ylabel('Number of Cars')\n",
        "    plt.xticks(rotation=45)  # Rotate x-axis labels for better readability\n",
        "    plt.tight_layout()  # Adjust layout to prevent labels from overlapping\n",
        "    plt.show()\n",
        "\n",
        "except KeyError:\n",
        "    print(\"Error: 'body_style' column not found. Please check your column names.\")\n",
        "except Exception as e:\n",
        "    print(f\"An unexpected error occurred: {e}\")\n"
      ],
      "metadata": {
        "colab": {
          "base_uri": "https://localhost:8080/"
        },
        "id": "36_-S5ljgEXm",
        "outputId": "93e09cac-56b6-4c4f-e371-f4601879b0cf"
      },
      "execution_count": null,
      "outputs": [
        {
          "output_type": "stream",
          "name": "stdout",
          "text": [
            "An unexpected error occurred: name 'df' is not defined\n"
          ]
        }
      ]
    },
    {
      "cell_type": "markdown",
      "source": [
        "Q6.How does the average selling price of cars vary by customer gender and annual income?"
      ],
      "metadata": {
        "id": "6DmY7TH4EfZC"
      }
    },
    {
      "cell_type": "code",
      "source": [
        "# Assuming your data is in a Excel file named 'Your Car Sale'\n",
        "# Replace 'your_Car Sale' with the actual file name\n",
        "\n",
        "try:\n",
        "    # Group data by Gender and Annual Income, then calculate the average selling price in Database file name (Car Sale)\n",
        "    price_variation = df.groupby(['Gender', 'Annual_Income'])['Selling_Price'].mean().unstack()\n",
        "\n",
        "    # Plotting the results\n",
        "    plt.figure(figsize=(12, 6))\n",
        "    sns.heatmap(price_variation, annot=True, fmt=\".2f\", cmap=\"viridis\")\n",
        "    plt.title(\"Average Selling Price by Gender and Annual Income\")\n",
        "    plt.xlabel(\"Annual Income\")\n",
        "    plt.ylabel(\"Gender\")\n",
        "    plt.show()\n",
        "\n",
        "except KeyError:\n",
        "    print(\"Error: 'Gender', 'Annual_Income', or 'Selling_Price' column not found. Please check your column names.\")\n",
        "except Exception as e:\n",
        "    print(f\"An unexpected error occurred: {e}\")\n"
      ],
      "metadata": {
        "colab": {
          "base_uri": "https://localhost:8080/"
        },
        "id": "-rHVIK-EEqq8",
        "outputId": "b52cb3f7-44bf-423e-949d-2dee48e16efb"
      },
      "execution_count": null,
      "outputs": [
        {
          "output_type": "stream",
          "name": "stdout",
          "text": [
            "An unexpected error occurred: name 'df' is not defined\n"
          ]
        }
      ]
    },
    {
      "cell_type": "markdown",
      "source": [
        "Q7.What is the distribution of car prices by region, and how does the number of cars sold vary by region?"
      ],
      "metadata": {
        "id": "4voywZAPFUFo"
      }
    },
    {
      "cell_type": "code",
      "source": [
        "# Assuming your data is in a Excel file named 'Your Car Sale'\n",
        "# Replace 'your_Car Sale' with the actual file name\n",
        "try:\n",
        "    # Calculate descriptive statistics for car Price($) by region in database file Car Sale\n",
        "    price_stats_by_region = df.groupby('Location')['Selling_Price'].describe()\n",
        "    print(price_stats_by_region)\n",
        "\n",
        "    # Calculate the number of cars sold in each region\n",
        "    cars_sold_by_region = df.groupby('Location')['Selling_Price'].count()\n",
        "    print(\"\\nNumber of cars sold by region:\\n\", cars_sold_by_region)\n",
        "\n",
        "    # Visualization: Combine price distribution and sales volume\n",
        "    fig, axes = plt.subplots(1, 2, figsize=(15, 5))  # Create subplots\n",
        "\n",
        "    # Plot price distribution\n",
        "    sns.boxplot(x='Location', y='Selling_Price', data=df, ax=axes[0])\n",
        "    axes[0].set_title('Distribution of Car Prices by Region')\n",
        "    axes[0].set_xlabel('Region')\n",
        "    axes[0].set_ylabel('Selling Price')\n",
        "    axes[0].tick_params(axis='x', rotation=45)\n",
        "\n",
        "    # Plot sales volume\n",
        "    cars_sold_by_region.plot(kind='bar', ax=axes[1])\n",
        "    axes[1].set_title('Number of Cars Sold by Region')\n",
        "    axes[1].set_xlabel('Region')\n",
        "    axes[1].set_ylabel('Number of Cars Sold')\n",
        "    axes[1].tick_params(axis='x', rotation=45)\n",
        "\n",
        "    plt.tight_layout()  # Adjust layout to prevent overlapping\n",
        "    plt.show()\n",
        "\n",
        "except KeyError:\n",
        "    print(\"Error: 'Location' or 'Selling_Price' column not found. Please check your column names.\")\n",
        "except Exception as e:\n",
        "    print(f\"An unexpected error occurred: {e}\")\n"
      ],
      "metadata": {
        "colab": {
          "base_uri": "https://localhost:8080/"
        },
        "id": "rQYH7vS9FcB-",
        "outputId": "7c02ee48-5890-42de-8ed1-bf7a62b9d767"
      },
      "execution_count": null,
      "outputs": [
        {
          "output_type": "stream",
          "name": "stdout",
          "text": [
            "An unexpected error occurred: name 'df' is not defined\n"
          ]
        }
      ]
    },
    {
      "cell_type": "markdown",
      "source": [
        "Q8.How does the average car price differ between cars with different engine sizes?"
      ],
      "metadata": {
        "id": "P9GY0HA0F1B6"
      }
    },
    {
      "cell_type": "code",
      "source": [
        "# Assuming your data is in a Excel file named 'Your Car Sale'\n",
        "# Replace 'your_Car Sale' with the actual file name\n",
        "\n",
        "try:\n",
        "    # Group data by engine size and calculate the average selling price\n",
        "    average_price_by_engine_size = df.groupby('Engine_Size')['Selling_Price'].mean()\n",
        "\n",
        "    # Print the results\n",
        "    print(average_price_by_engine_size)\n",
        "\n",
        "    # Visualization (optional): Bar plot for average price by engine size\n",
        "    plt.figure(figsize=(10, 6))\n",
        "    average_price_by_engine_size.plot(kind='bar')\n",
        "    plt.title('Average Car Price by Engine Size')\n",
        "    plt.xlabel('Engine Size')\n",
        "    plt.ylabel('Average Selling Price')\n",
        "    plt.xticks(rotation=45)\n",
        "    plt.tight_layout()\n",
        "    plt.show()\n",
        "\n",
        "except KeyError:\n",
        "    print(\"Error: 'Engine_Size' or 'Selling_Price' column not found. Please check your column names.\")\n",
        "except Exception as e:\n",
        "    print(f\"An unexpected error occurred: {e}\")\n"
      ],
      "metadata": {
        "colab": {
          "base_uri": "https://localhost:8080/"
        },
        "id": "vHBeGfO8F4vI",
        "outputId": "e11c5878-a594-4824-b3b3-1ca0eac3f6e7"
      },
      "execution_count": null,
      "outputs": [
        {
          "output_type": "stream",
          "name": "stdout",
          "text": [
            "An unexpected error occurred: name 'df' is not defined\n"
          ]
        }
      ]
    },
    {
      "cell_type": "markdown",
      "source": [
        "Q9.How do car prices vary based on the customer’s annual income bracket?"
      ],
      "metadata": {
        "id": "-gGyERY8GM72"
      }
    },
    {
      "cell_type": "code",
      "source": [
        "# Assuming your data is in a Excel file named 'Your Car Sale'\n",
        "# Replace 'your_Car Sale' with the actual file name\n",
        "\n",
        "try:\n",
        "    # Group data by annual income bracket and calculate the average selling price\n",
        "    average_price_by_income = df.groupby('Annual_Income')['Selling_Price'].mean()\n",
        "\n",
        "    # Print the results\n",
        "    print(average_price_by_income)\n",
        "\n",
        "    # Visualization (optional): Line plot or bar plot for average price by income bracket\n",
        "    plt.figure(figsize=(10, 6))\n",
        "    average_price_by_income.plot(kind='line', marker='o')  # You can change to 'bar' if preferred\n",
        "    plt.title('Average Car Price by Annual Income Bracket')\n",
        "    plt.xlabel('Annual Income Bracket')\n",
        "    plt.ylabel('Average Selling Price')\n",
        "    plt.xticks(rotation=45)\n",
        "    plt.tight_layout()\n",
        "    plt.show()\n",
        "\n",
        "except KeyError:\n",
        "    print(\"Error: 'Annual_Income' or 'Selling_Price' column not found. Please check your column names.\")\n",
        "except Exception as e:\n",
        "    print(f\"An unexpected error occurred: {e}\")\n"
      ],
      "metadata": {
        "colab": {
          "base_uri": "https://localhost:8080/"
        },
        "id": "-lNwoiGmGSW1",
        "outputId": "90c59076-75da-486d-a143-816866ec7c46"
      },
      "execution_count": null,
      "outputs": [
        {
          "output_type": "stream",
          "name": "stdout",
          "text": [
            "An unexpected error occurred: name 'df' is not defined\n"
          ]
        }
      ]
    },
    {
      "cell_type": "markdown",
      "source": [
        "Q10.What are the top 5 car models with the highest number of sales, and how does their price distribution look?"
      ],
      "metadata": {
        "id": "HZ9EaJZxGj3a"
      }
    },
    {
      "cell_type": "code",
      "source": [
        "# Assuming your data is in a Excel file named 'Your Car Sale'\n",
        "# Replace 'your_Car Sale' with the actual file name\n",
        "\n",
        "try:\n",
        "    # Calculate the number of sales for each car model\n",
        "    sales_by_model = df['Model'].value_counts()\n",
        "\n",
        "    # Get the top 5 car models\n",
        "    top_5_models = sales_by_model.head(5).index\n",
        "\n",
        "    # Filter the DataFrame for the top 5 models\n",
        "    top_5_df = df[df['Model'].isin(top_5_models)]\n",
        "\n",
        "    # Plot the price distribution for each of the top 5 models\n",
        "    plt.figure(figsize=(12, 6))\n",
        "    sns.boxplot(x='Model', y='Selling_Price', data=top_5_df)\n",
        "    plt.title('Price Distribution of Top 5 Car Models')\n",
        "    plt.xlabel('Car Model')\n",
        "    plt.ylabel('Selling Price')\n",
        "    plt.xticks(rotation=45)\n",
        "    plt.tight_layout()\n",
        "    plt.show()\n",
        "\n",
        "except KeyError:\n",
        "    print(\"Error: 'Model' or 'Selling_Price' column not found. Please check your column names.\")\n",
        "except Exception as e:\n",
        "    print(f\"An unexpected error occurred: {e}\")\n"
      ],
      "metadata": {
        "colab": {
          "base_uri": "https://localhost:8080/"
        },
        "id": "H4aqD7_ZGopU",
        "outputId": "f7b2c6d7-6096-450c-fabc-e3af32ff1a35"
      },
      "execution_count": null,
      "outputs": [
        {
          "output_type": "stream",
          "name": "stdout",
          "text": [
            "An unexpected error occurred: name 'df' is not defined\n"
          ]
        }
      ]
    },
    {
      "cell_type": "markdown",
      "source": [
        "Q11. How does car price vary with engine size across different car colors, and which colors have the highest price\n",
        "variation?"
      ],
      "metadata": {
        "id": "SniRUor5HAdi"
      }
    },
    {
      "cell_type": "code",
      "source": [
        "# Assuming your data is in a Excel file named 'Your Car Sale'\n",
        "# Replace 'your_Car Sale' with the actual file name\n",
        "\n",
        "try:\n",
        "    # Group data by color and engine size, then calculate the average selling price i Car Sale\n",
        "    price_variation = df.groupby(['Color', 'Engine_Size'])['Selling_Price'].mean().unstack()\n",
        "\n",
        "    # Plotting the results\n",
        "    plt.figure(figsize=(12, 6))\n",
        "    sns.heatmap(price_variation, annot=True, fmt=\".2f\", cmap=\"viridis\")\n",
        "    plt.title(\"Average Selling Price by Color and Engine Size\")\n",
        "    plt.xlabel(\"Engine Size\")\n",
        "    plt.ylabel(\"Color\")\n",
        "    plt.show()\n",
        "\n",
        "    # Calculate price variation for each color\n",
        "    price_variation_by_color = df.groupby('Color')['Selling_Price'].std()\n",
        "\n",
        "    # Find the color with the highest price variation\n",
        "    color_with_highest_variation = price_variation_by_color.idxmax()\n",
        "    highest_variation = price_variation_by_color.max()\n",
        "\n",
        "    print(f\"The car color with the highest price variation is {color_with_highest_variation} with a standard deviation of {highest_variation}.\")\n",
        "\n",
        "except KeyError:\n",
        "    print(\"Error: 'Color', 'Engine_Size', or 'Selling_Price' column not found. Please check your column names.\")\n",
        "except Exception as e:\n",
        "    print(f\"An unexpected error occurred: {e}\")\n"
      ],
      "metadata": {
        "colab": {
          "base_uri": "https://localhost:8080/"
        },
        "id": "uIKzwMM9HE_y",
        "outputId": "a86f3251-2c25-4c48-e3f9-0e6883b7280f"
      },
      "execution_count": null,
      "outputs": [
        {
          "output_type": "stream",
          "name": "stdout",
          "text": [
            "An unexpected error occurred: name 'df' is not defined\n"
          ]
        }
      ]
    },
    {
      "cell_type": "markdown",
      "source": [
        "Q12. Is there any seasonal trend in car sales based on the date of sale?"
      ],
      "metadata": {
        "id": "EKpszxbuHgQA"
      }
    },
    {
      "cell_type": "code",
      "source": [
        "\n",
        "# Assuming your data is in a Excel file named 'Your Car Sale'\n",
        "# Replace 'your_Car Sale' with the actual file name\n",
        "\n",
        "try:\n",
        "    # Convert the 'Date' column to datetime objects if it's not already\n",
        "    df['Date'] = pd.to_datetime(df['Date'])\n",
        "\n",
        "    # Extract month and year from the date\n",
        "    df['Month'] = df['Date'].dt.month\n",
        "    df['Year'] = df['Date'].dt.year\n",
        "\n",
        "    # Group data by month and year and count sales\n",
        "    monthly_sales = df.groupby(['Year', 'Month'])['Selling_Price'].count().reset_index()\n",
        "\n",
        "    # Pivot the data to create a time series for each year\n",
        "    sales_pivot = monthly_sales.pivot(index='Month', columns='Year', values='Selling_Price')\n",
        "\n",
        "    # Plotting monthly sales\n",
        "    plt.figure(figsize=(12, 6))\n",
        "    sales_pivot.plot(ax=plt.gca())  # Use the current axes for the plot\n",
        "    plt.title('Monthly Car Sales Trend')\n",
        "    plt.xlabel('Month')\n",
        "    plt.ylabel('Number of Cars Sold')\n",
        "    plt.xticks(range(1, 13))  # Set x-ticks to represent months\n",
        "    plt.legend(title='Year')\n",
        "    plt.show()\n",
        "\n",
        "\n",
        "except KeyError:\n",
        "    print(\"Error: 'Date' or 'Selling_Price' column not found. Please check your column names.\")\n",
        "except Exception as e:\n",
        "    print(f\"An unexpected error occurred: {e}\")\n"
      ],
      "metadata": {
        "colab": {
          "base_uri": "https://localhost:8080/"
        },
        "id": "0WqzBZhFHl93",
        "outputId": "d08a51cb-dc04-4674-f08e-b1714981abbd"
      },
      "execution_count": null,
      "outputs": [
        {
          "output_type": "stream",
          "name": "stdout",
          "text": [
            "An unexpected error occurred: name 'pd' is not defined\n"
          ]
        }
      ]
    },
    {
      "cell_type": "markdown",
      "source": [
        "Q13.How does the car price distribution change when considering different combinations of body style and\n",
        "transmission type?"
      ],
      "metadata": {
        "id": "wWt0PjpRIJMj"
      }
    },
    {
      "cell_type": "code",
      "source": [
        "# Assuming your data is in a Excel file named 'Your Car Sale'\n",
        "# Replace 'your_Car Sale' with the actual file name\n",
        "\n",
        "\n",
        "try:\n",
        "    # Group data by body style and transmission type, then calculate descriptive statistics for selling price\n",
        "    price_stats = df.groupby(['body_style', 'Transmission'])['Selling_Price'].describe()\n",
        "    print(price_stats)\n",
        "\n",
        "    # Visualization (optional): Box plots for car prices by body style and transmission type\n",
        "    plt.figure(figsize=(12, 6))\n",
        "    sns.boxplot(x='body_style', y='Selling_Price', hue='Transmission', data=df)\n",
        "    plt.title('Car Price Distribution by Body Style and Transmission Type')\n",
        "    plt.xlabel('Body Style')\n",
        "    plt.ylabel('Selling Price')\n",
        "    plt.xticks(rotation=45)\n",
        "    plt.tight_layout()\n",
        "    plt.show()\n",
        "\n",
        "except KeyError:\n",
        "    print(\"Error: 'body_style', 'Transmission', or 'Selling_Price' column not found. Please check your column names.\")\n",
        "except Exception as e:\n",
        "    print(f\"An unexpected error occurred: {e}\")\n"
      ],
      "metadata": {
        "colab": {
          "base_uri": "https://localhost:8080/"
        },
        "id": "l-2_IBIqIM1-",
        "outputId": "63ad9fad-1869-4f3e-e839-84ae5fa3e71b"
      },
      "execution_count": null,
      "outputs": [
        {
          "output_type": "stream",
          "name": "stdout",
          "text": [
            "An unexpected error occurred: name 'df' is not defined\n"
          ]
        }
      ]
    },
    {
      "cell_type": "markdown",
      "source": [
        "Q14.What is the correlation between car price, engine size, and annual income of customers, and how do these\n",
        "features interact?"
      ],
      "metadata": {
        "id": "hh1sa64IIYKb"
      }
    },
    {
      "cell_type": "code",
      "source": [
        "# Assuming your data is in a Excel file named 'Your Car Sale'\n",
        "# Replace 'your_Car Sale' with the actual file name\n",
        "\n",
        "try:\n",
        "    # Calculate the correlation matrix for 'Selling_Price', 'Engine', and 'AAnnual Income'\n",
        "    correlation_matrix = df[['Selling_Price', 'Engine', 'Annual_Income']].corr()\n",
        "    print(correlation_matrix)\n",
        "\n",
        "    # Visualization: Pair plot to visualize relationships between features\n",
        "    sns.pairplot(df[['Selling_Price', 'Engine', 'Annual_Income']])\n",
        "    plt.suptitle('Pair Plot of Car Price, Engine, and Annual Income', y=1.02)\n",
        "    plt.show()\n",
        "\n",
        "    # Further analysis (optional): Regression analysis to model the interactions\n",
        "    # Example: Linear regression to understand how engine size and annual income affect price\n",
        "    # ... (code for regression analysis)\n",
        "\n",
        "except KeyError:\n",
        "    print(\"Error: 'Selling_Price', 'Engine', or 'Annual_Income' column not found. Please check your column names.\")\n",
        "except Exception as e:\n",
        "    print(f\"An unexpected error occurred: {e}\")\n"
      ],
      "metadata": {
        "colab": {
          "base_uri": "https://localhost:8080/"
        },
        "id": "-wr8h6frIfDF",
        "outputId": "e5a4f2ed-68e7-4a00-d4cd-ce9ea91ea3a3"
      },
      "execution_count": null,
      "outputs": [
        {
          "output_type": "stream",
          "name": "stdout",
          "text": [
            "An unexpected error occurred: name 'df' is not defined\n"
          ]
        }
      ]
    },
    {
      "cell_type": "markdown",
      "source": [
        "Q15.How does the average car price vary across different car models and engine types?"
      ],
      "metadata": {
        "id": "gEelEqR-I4hG"
      }
    },
    {
      "cell_type": "code",
      "source": [
        "# Assuming your data is in a Excel file named 'Your Car Sale'\n",
        "# Replace 'your_Car Sale' with the actual file name\n",
        "try:\n",
        "    # Group data by car model and engine type, then calculate the average selling price\n",
        "    average_price_by_model_engine = df.groupby(['Model', 'Engine'])['Selling_Price'].mean().unstack()\n",
        "\n",
        "    # Plotting the results\n",
        "    plt.figure(figsize=(12, 6))\n",
        "    sns.heatmap(average_price_by_model_engine, annot=True, fmt=\".2f\", cmap=\"viridis\")\n",
        "    plt.title(\"Average Selling Price by Car Model and Engine Type\")\n",
        "    plt.xlabel(\"Engine Type\")\n",
        "    plt.ylabel(\"Car Model\")\n",
        "    plt.show()\n",
        "\n",
        "except KeyError:\n",
        "    print(\"Error: 'Model', 'Engine', or 'Selling_Price' column not found. Please check your column names.\")\n",
        "except Exception as e:\n",
        "    print(f\"An unexpected error occurred: {e}\")\n"
      ],
      "metadata": {
        "colab": {
          "base_uri": "https://localhost:8080/"
        },
        "id": "Vg7qFUI-I9FX",
        "outputId": "795f0407-d031-47e4-a5fa-97dde1bb07d3"
      },
      "execution_count": null,
      "outputs": [
        {
          "output_type": "stream",
          "name": "stdout",
          "text": [
            "An unexpected error occurred: name 'df' is not defined\n"
          ]
        }
      ]
    },
    {
      "cell_type": "markdown",
      "source": [
        "**EDA - 3**"
      ],
      "metadata": {
        "id": "GKflbufxJSx6"
      }
    },
    {
      "cell_type": "markdown",
      "source": [
        "Q1. What is the average rating for each product category?"
      ],
      "metadata": {
        "id": "Xt81BFc6JXbB"
      }
    },
    {
      "cell_type": "code",
      "source": [
        "# Assuming your data is in a Excel file named 'Your amazon'\n",
        "# Replace 'your_amazon' with the actual file name\n",
        "try:\n",
        "    # Assuming 'Product_Category' and 'Rating' columns exist in your DataFrame\n",
        "    average_rating_by_category = df.groupby('Product_Category')['Rating'].mean()\n",
        "    print(average_rating_by_category)\n",
        "\n",
        "    # Visualization (optional): Bar plot for average ratings\n",
        "    plt.figure(figsize=(10, 6))\n",
        "    average_rating_by_category.plot(kind='bar')\n",
        "    plt.title('Average Rating for Each Product Category')\n",
        "    plt.xlabel('Product Category')\n",
        "    plt.ylabel('Average Rating')\n",
        "    plt.xticks(rotation=45)\n",
        "    plt.tight_layout()\n",
        "    plt.show()\n",
        "\n",
        "except KeyError:\n",
        "    print(\"Error: 'Product_Category' or 'Rating' column not found. Please check your column names.\")\n",
        "except Exception as e:\n",
        "    print(f\"An unexpected error occurred: {e}\")\n"
      ],
      "metadata": {
        "colab": {
          "base_uri": "https://localhost:8080/"
        },
        "id": "fpEb1LLFJfMP",
        "outputId": "631c9e72-7f88-4da3-b79d-abda7695a0f8"
      },
      "execution_count": null,
      "outputs": [
        {
          "output_type": "stream",
          "name": "stdout",
          "text": [
            "An unexpected error occurred: name 'df' is not defined\n"
          ]
        }
      ]
    },
    {
      "cell_type": "markdown",
      "source": [
        "Q2.What are the top rating_count products by category?"
      ],
      "metadata": {
        "id": "Lif2v3WSKU2X"
      }
    },
    {
      "cell_type": "code",
      "source": [
        "# Assuming your data is in a Excel file named 'Your amazon'\n",
        "# Replace 'your_amazon' with the actual file name\n",
        "try:\n",
        "    # Group by 'Product_Category' and get the top products by 'rating_count'\n",
        "    top_products_by_category = df.groupby('Product_Category').apply(lambda x: x.nlargest(5, 'rating_count'))\n",
        "\n",
        "    # Display the results\n",
        "    print(top_products_by_category[['Product_Name', 'rating_count']])\n",
        "\n",
        "except KeyError:\n",
        "    print(\"Error: 'Product_Category', 'Product_Name', or 'rating_count' column not found. Please check your column names.\")\n",
        "except Exception as e:\n",
        "    print(f\"An unexpected error occurred: {e}\")\n"
      ],
      "metadata": {
        "colab": {
          "base_uri": "https://localhost:8080/"
        },
        "id": "OQYCgpmfKchJ",
        "outputId": "e6ad2b11-8381-46a1-ea56-54ebc4de8a40"
      },
      "execution_count": null,
      "outputs": [
        {
          "output_type": "stream",
          "name": "stdout",
          "text": [
            "An unexpected error occurred: name 'df' is not defined\n"
          ]
        }
      ]
    },
    {
      "cell_type": "markdown",
      "source": [
        "Q3.What is the distribution of discounted prices vs. actual prices?"
      ],
      "metadata": {
        "id": "c68vauYJKmrE"
      }
    },
    {
      "cell_type": "code",
      "source": [
        "# Assuming your data is in a Excel file named 'Your amazon'\n",
        "# Replace 'your_amazon' with the actual file name\n",
        "try:\n",
        "    # Assuming 'discounted_price' and 'actual_price' columns exist in your (amazon file)\n",
        "    plt.figure(figsize=(10, 6))\n",
        "    sns.histplot(df['discounted_price'], label='Discounted Price', kde=True)\n",
        "    sns.histplot(df['actual_price'], label='Actual Price', kde=True)\n",
        "    plt.title('Distribution of Discounted Prices vs. Actual Prices')\n",
        "    plt.xlabel('Price')\n",
        "    plt.ylabel('Frequency')\n",
        "    plt.legend()\n",
        "    plt.show()\n",
        "\n",
        "    # Calculate and print descriptive statistics\n",
        "    print(\"Discounted Price Statistics:\")\n",
        "    print(df['discounted_price'].describe())\n",
        "    print(\"\\nActual Price Statistics:\")\n",
        "    print(df['actual_price'].describe())\n",
        "\n",
        "except KeyError:\n",
        "    print(\"Error: 'discounted_price' or 'actual_price' column not found. Please check your column names.\")\n",
        "except Exception as e:\n",
        "    print(f\"An unexpected error occurred: {e}\")\n"
      ],
      "metadata": {
        "colab": {
          "base_uri": "https://localhost:8080/"
        },
        "id": "rKhotxuJKqrb",
        "outputId": "d48a6654-80ad-4002-cc48-5fd963f04014"
      },
      "execution_count": null,
      "outputs": [
        {
          "output_type": "stream",
          "name": "stdout",
          "text": [
            "An unexpected error occurred: name 'plt' is not defined\n"
          ]
        }
      ]
    },
    {
      "cell_type": "markdown",
      "source": [
        "Q4.How does the average discount percentage vary across categories?"
      ],
      "metadata": {
        "id": "_KtZh5URK9vH"
      }
    },
    {
      "cell_type": "code",
      "source": [
        "# Assuming your data is in a Excel file named 'Your amazon'\n",
        "# Replace 'your_amazon' with the actual file name\n",
        "try:\n",
        "    # Calculate the discount percentage\n",
        "    df['discount_percentage'] = ((df['actual_price'] - df['discounted_price']) / df['actual_price']) * 100\n",
        "\n",
        "    # Group by category and calculate the average discount percentage\n",
        "    average_discount_by_category = df.groupby('Product_Category')['discount_percentage'].mean()\n",
        "\n",
        "    print(average_discount_by_category)\n",
        "\n",
        "    # Visualization (optional): Bar plot for average discount percentage by category\n",
        "    plt.figure(figsize=(10, 6))\n",
        "    average_discount_by_category.plot(kind='bar')\n",
        "    plt.title('Average Discount Percentage by Product Category')\n",
        "    plt.xlabel('Product Category')\n",
        "    plt.ylabel('Average Discount Percentage')\n",
        "    plt.xticks(rotation=45)\n",
        "    plt.tight_layout()\n",
        "    plt.show()\n",
        "\n",
        "except KeyError:\n",
        "    print(\"Error: 'Product_Category', 'actual_price', or 'discounted_price' column not found. Please check your column names.\")\n",
        "except Exception as e:\n",
        "    print(f\"An unexpected error occurred: {e}\")"
      ],
      "metadata": {
        "colab": {
          "base_uri": "https://localhost:8080/"
        },
        "id": "7HNiuKLhMnE3",
        "outputId": "57ce0ca5-2cc6-4ae9-8d8c-a9015a251c4c"
      },
      "execution_count": null,
      "outputs": [
        {
          "output_type": "stream",
          "name": "stdout",
          "text": [
            "An unexpected error occurred: name 'df' is not defined\n"
          ]
        }
      ]
    },
    {
      "cell_type": "markdown",
      "source": [
        "Q5.What are the most popular product names?"
      ],
      "metadata": {
        "id": "J0db24emM2KC"
      }
    },
    {
      "cell_type": "code",
      "source": [
        "# Assuming your data is in a Excel file named 'Your amazon'\n",
        "# Replace 'your_amazon' with the actual file name\n",
        "\n",
        "try:\n",
        "    # Assuming 'Product_Name' column exists in your amazon\n",
        "    popular_products = df['Product_Name'].value_counts().head(10)  # Get top 10\n",
        "    print(popular_products)\n",
        "\n",
        "    # Visualization (optional): Bar plot for popular products\n",
        "    plt.figure(figsize=(12, 6))\n",
        "    popular_products.plot(kind='bar')\n",
        "    plt.title('Most Popular Product Names')\n",
        "    plt.xlabel('Product Name')\n",
        "    plt.ylabel('Number of Sales')\n",
        "    plt.xticks(rotation=45, ha='right')  # Rotate x-axis labels for readability\n",
        "    plt.tight_layout()\n",
        "    plt.show()\n",
        "\n",
        "except KeyError:\n",
        "    print(\"Error: 'Product_Name' column not found. Please check your column names.\")\n",
        "except Exception as e:\n",
        "    print(f\"An unexpected error occurred: {e}\")\n"
      ],
      "metadata": {
        "colab": {
          "base_uri": "https://localhost:8080/"
        },
        "id": "4BD9ijcfM6Ic",
        "outputId": "8dfb8feb-b88c-4300-a9c7-86665b04229c"
      },
      "execution_count": null,
      "outputs": [
        {
          "output_type": "stream",
          "name": "stdout",
          "text": [
            "An unexpected error occurred: name 'df' is not defined\n"
          ]
        }
      ]
    },
    {
      "cell_type": "markdown",
      "source": [
        "Q6.What are the most popular product keywords?"
      ],
      "metadata": {
        "id": "l4Aduh-oNRK9"
      }
    },
    {
      "cell_type": "code",
      "source": [
        "# Assuming your data is in a Excel file named 'Your amazon'\n",
        "# Replace 'your_amazon' with the actual file name\n",
        "\n",
        "# Assuming 'Product_Name' column contains keywords\n",
        "try:\n",
        "    # Combine all product names into a single string\n",
        "    all_product_names = ' '.join(df['Product_Name'].astype(str).tolist())\n",
        "\n",
        "    # Tokenize the string into words\n",
        "    from nltk.tokenize import word_tokenize\n",
        "    import nltk\n",
        "    nltk.download('punkt')\n",
        "    words = word_tokenize(all_product_names)\n",
        "\n",
        "    # Remove punctuation and convert to lowercase\n",
        "    import string\n",
        "    words = [word.lower() for word in words if word not in string.punctuation]\n",
        "\n",
        "    # Remove stop words (common words like \"the\", \"a\", \"is\")\n",
        "    nltk.download('stopwords')\n",
        "    from nltk.corpus import stopwords\n",
        "    stop_words = set(stopwords.words('english'))\n",
        "    words = [word for word in words if word not in stop_words]\n",
        "\n",
        "    # Count word frequencies\n",
        "    from collections import Counter\n",
        "    word_counts = Counter(words)\n",
        "\n",
        "    # Print the most common words (adjust the number as needed)\n",
        "    print(\"Most frequent keywords:\", word_counts.most_common(10))\n",
        "\n",
        "except KeyError:\n",
        "    print(\"Error: 'Product_Name' column not found in the DataFrame.\")\n",
        "except Exception as e:\n",
        "    print(f\"An unexpected error occurred: {e}\")"
      ],
      "metadata": {
        "colab": {
          "base_uri": "https://localhost:8080/"
        },
        "id": "VPaTClgbN1SR",
        "outputId": "f35d8f8e-674b-4203-a1b7-e92734633928"
      },
      "execution_count": null,
      "outputs": [
        {
          "output_type": "stream",
          "name": "stdout",
          "text": [
            "An unexpected error occurred: name 'df' is not defined\n"
          ]
        }
      ]
    },
    {
      "cell_type": "markdown",
      "source": [
        "Q7.What are the most popular product reviews?"
      ],
      "metadata": {
        "id": "NAewZQ_UN-t4"
      }
    },
    {
      "cell_type": "code",
      "source": [
        "# Assuming your data is in a Excel file named 'Your amazon'\n",
        "# Replace 'your_amazon' with the actual file name\n",
        "\n",
        "# Assuming 'Review' column exists in your DataFrame\n",
        "try:\n",
        "    # Assuming 'Review' column exists in your amazon\n",
        "    # Combine all reviews into a single string\n",
        "    all_reviews = ' '.join(df['Review'].astype(str).tolist())\n",
        "\n",
        "    # Tokenize the string into words\n",
        "    nltk.download('punkt')\n",
        "    words = word_tokenize(all_reviews)\n",
        "\n",
        "    # Remove punctuation and convert to lowercase\n",
        "    words = [word.lower() for word in words if word not in string.punctuation]\n",
        "\n",
        "    # Remove stop words (common words like \"the\", \"a\", \"is\")\n",
        "    nltk.download('stopwords')\n",
        "    stop_words = set(stopwords.words('english'))\n",
        "    words = [word for word in words if word not in stop_words]\n",
        "\n",
        "    # Count word frequencies\n",
        "    word_counts = Counter(words)\n",
        "\n",
        "    # Print the most common words (adjust the number as needed)\n",
        "    print(\"Most frequent words in reviews:\", word_counts.most_common(10))\n",
        "\n",
        "except KeyError:\n",
        "    print(\"Error: 'Review' column not found in the DataFrame.\")\n",
        "except Exception as e:\n",
        "    print(f\"An unexpected error occurred: {e}\")"
      ],
      "metadata": {
        "colab": {
          "base_uri": "https://localhost:8080/"
        },
        "id": "SXwUHcl0OJH0",
        "outputId": "89842bb9-d53d-4586-f480-b9b117c6eb1e"
      },
      "execution_count": null,
      "outputs": [
        {
          "output_type": "stream",
          "name": "stdout",
          "text": [
            "An unexpected error occurred: name 'df' is not defined\n"
          ]
        }
      ]
    },
    {
      "cell_type": "markdown",
      "source": [
        "Q8.What is the correlation between discounted_price and rating?"
      ],
      "metadata": {
        "id": "_ElRh2VNOQAK"
      }
    },
    {
      "cell_type": "code",
      "source": [
        "# Assuming your data is in a Excel file named 'Your amazon'\n",
        "# Replace 'your_amazon' with the actual file name\n",
        "\n",
        "try:\n",
        "    correlation = df['discounted_price'].corr(df['Rating'])\n",
        "    print(f\"The correlation between discounted_price and rating is: {correlation}\")\n",
        "except KeyError:\n",
        "    print(\"Error: 'discounted_price' or 'Rating' column not found. Please check your column names.\")\n",
        "except Exception as e:\n",
        "    print(f\"An unexpected error occurred: {e}\")\n"
      ],
      "metadata": {
        "colab": {
          "base_uri": "https://localhost:8080/"
        },
        "id": "55TJ_-rsOVYa",
        "outputId": "a816b6a6-0134-45a4-b190-f96b708711fb"
      },
      "execution_count": null,
      "outputs": [
        {
          "output_type": "stream",
          "name": "stdout",
          "text": [
            "An unexpected error occurred: name 'df' is not defined\n"
          ]
        }
      ]
    },
    {
      "cell_type": "markdown",
      "source": [
        "Q9.What are the Top 5 categories based on the highest ratings?"
      ],
      "metadata": {
        "id": "z1Erhti8OfMN"
      }
    },
    {
      "cell_type": "code",
      "source": [
        "# Assuming your data is in a Excel file named 'Your amazon'\n",
        "# Replace 'your_amazon' with the actual file name\n",
        "try:\n",
        "    # Group by category and calculate the mean rating\n",
        "    top_categories = df.groupby('Product_Category')['Rating'].mean().nlargest(5)\n",
        "    print(top_categories)\n",
        "except KeyError:\n",
        "    print(\"Error: 'Product_Category' or 'Rating' column not found. Please check your column names.\")\n",
        "except Exception as e:\n",
        "    print(f\"An unexpected error occurred: {e}\")\n"
      ],
      "metadata": {
        "colab": {
          "base_uri": "https://localhost:8080/"
        },
        "id": "lqH7egdvOjJZ",
        "outputId": "8d0de0d5-5e0f-4c7e-9405-4c2c5b31e9af"
      },
      "execution_count": null,
      "outputs": [
        {
          "output_type": "stream",
          "name": "stdout",
          "text": [
            "An unexpected error occurred: name 'df' is not defined\n"
          ]
        }
      ]
    },
    {
      "cell_type": "markdown",
      "source": [
        "Q10.Identify any potential areas for improvement or optimization based on the data analysis."
      ],
      "metadata": {
        "id": "8AUOd8i4Oum2"
      }
    },
    {
      "cell_type": "markdown",
      "source": [
        "Potential areas for improvement and optimization:\n",
        "\n",
        " 1. Robust Error Handling:\n",
        "    - The code uses try-except blocks, which is good. However, instead of generic except blocks,\n",
        "     catch specific exceptions where possible. This will help in debugging and identifying the\n",
        "      root cause of errors more accurately.  For example, instead of `except Exception as e:`,\n",
        "      consider more specific exceptions like `FileNotFoundError`, `ValueError`, etc.\n",
        "\n",
        " 2. Data Validation:\n",
        "    - Before performing calculations or visualizations, validate the data. Check for missing values,\n",
        "      invalid data types, and outliers.  Handle missing data appropriately (imputation, removal) and\n",
        "      consider outlier treatment (winsorization, removal, transformation).\n",
        "    - Example: `df.isnull().sum()` to check for missing values, and then use imputation or removal\n",
        "               techniques: `df['column'].fillna(df['column'].mean(), inplace=True)` (imputation)\n",
        "               or `df.dropna(subset=['column'], inplace=True)` (removal)\n",
        "\n",
        " 3. Data Cleaning:\n",
        "    - Ensure consistent formatting of columns like 'Engine_Size', 'Annual_Income', 'Date', etc.\n",
        "      Inconsistent data can lead to inaccurate analysis.  For example, convert strings to\n",
        "      numerical values if needed, or parse dates correctly.\n",
        "    - Convert 'Date' to datetime objects earlier in the script so that you don't have to repeat the\n",
        "      conversion in each function that deals with the dates.\n",
        "\n",
        " 4. More Informative Visualizations:\n",
        "    - While the code uses several visualizations, enhancing them can improve clarity.\n",
        "    - Add more context to the plots using labels, titles, and legends. Customize the axis ranges for better visibility.\n",
        "    - Consider using alternative visualizations where appropriate. For example, scatter plots with regression lines\n",
        "      for showing relationships between variables.\n",
        "\n",
        " 5. Statistical Significance:\n",
        "   - For certain analyses, consider hypothesis testing to assess the statistical significance of\n",
        "     the observed differences or correlations. For example, when comparing average car prices\n",
        "     across groups, perform t-tests or ANOVA to see if the differences are statistically significant.\n",
        "\n",
        "\n",
        " 6. Feature Engineering:\n",
        "    - Create new features that might be more informative.  For example, calculate the age of the car\n",
        "      based on its manufacturing date and the sale date.\n",
        "\n",
        " 7. Modularization:\n",
        "    - Organize the code into reusable functions to avoid repetition and improve readability.  For\n",
        "       example, create a function for data loading and cleaning, another function for plotting\n",
        "       specific visualizations, etc.\n",
        "\n",
        " 8. Comments and Documentation:\n",
        "    - Add comments explaining more complex logic, and ensure variables have meaningful names.\n",
        "\n",
        " 9.  Efficient Data Structures:\n",
        "    - If your dataset is extremely large, consider using libraries like Dask or Vaex for efficient data\n",
        "       handling and processing.\n",
        "\n",
        " Example of improved error handling:\n",
        " try:\n",
        "   df = pd.read_excel(\"your_file.xlsx\")\n",
        " except FileNotFoundError:\n",
        "   print(\"Error: The file 'your_file.xlsx' was not found.\")\n",
        " except pd.errors.ParserError:\n",
        "   print(\"Error: There was a problem parsing the Excel file.\")\n",
        " except Exception as e:\n",
        "   print(f\"An unexpected error occurred: {e}\")"
      ],
      "metadata": {
        "id": "8dXTy47dPju4"
      }
    },
    {
      "cell_type": "markdown",
      "source": [
        "**EDA - 4**"
      ],
      "metadata": {
        "id": "g8FC_s0IPmRS"
      }
    },
    {
      "cell_type": "markdown",
      "source": [
        "Q1.Read the dataframe, check null value if present then do the needful, check duplicate row , if present then do\n",
        "the needful."
      ],
      "metadata": {
        "id": "yH0Dd6jzPo_m"
      }
    },
    {
      "cell_type": "code",
      "source": [
        "# Assuming your data is in a Excel file named 'Your spotify'\n",
        "# Replace 'your_spotify' with the actual file name\n",
        "\n",
        "import pandas as pd\n",
        "\n",
        "def preprocess_dataframe(df):\n",
        "\n",
        "    # Check for null values\n",
        "    null_counts = df.isnull().sum()\n",
        "    print(\"Null value counts per column:\\n\", null_counts)\n",
        "\n",
        "    # Handle null values (example: spotify with mean for numerical columns)\n",
        "    for col in df.select_dtypes(include=['number']):\n",
        "        if null_counts[col] > 0:\n",
        "            df[col].fillna(df[col].mean(), inplace=True)  # Or use other imputation methods\n",
        "\n",
        "    # Handle null values (example: spotify with mode for categorical columns)\n",
        "    for col in df.select_dtypes(include=['object']):\n",
        "      if null_counts[col] > 0:\n",
        "        df[col].fillna(df[col].mode()[0], inplace=True)\n",
        "\n",
        "    # Check for duplicate rows\n",
        "    duplicate_rows = df[df.duplicated()]\n",
        "    print(\"\\nNumber of duplicate rows:\", len(duplicate_rows))\n",
        "    print(\"Duplicate rows:\\n\", duplicate_rows)\n",
        "\n",
        "    # Remove duplicate rows (keep first occurrence)\n",
        "    df.drop_duplicates(inplace=True)\n",
        "\n",
        "    return df\n",
        "\n",
        "# Example usage (replace 'your_spotify' with your actual file path)\n",
        "try:\n",
        "    df = pd.read_csv('your_spotify.csv')  # Or pd.read_excel('your_spotify.xlsx') for Excel files\n",
        "    df = preprocess_dataframe(df)\n",
        "    print(\"\\nPreprocessed DataFrame:\\n\", df.head())\n",
        "except FileNotFoundError:\n",
        "    print(\"Error: File not found. Please provide the correct file path.\")\n",
        "except Exception as e:\n",
        "    print(f\"An error occurred: {e}\")\n"
      ],
      "metadata": {
        "colab": {
          "base_uri": "https://localhost:8080/"
        },
        "id": "dxXVsvcJP_qd",
        "outputId": "ede857e6-5110-4e96-9795-1b2040342895"
      },
      "execution_count": null,
      "outputs": [
        {
          "output_type": "stream",
          "name": "stdout",
          "text": [
            "Error: File not found. Please provide the correct file path.\n"
          ]
        }
      ]
    },
    {
      "cell_type": "markdown",
      "source": [
        "Q2.What is the distribution of popularity among the tracks in the dataset? Visualize it using a histogram?"
      ],
      "metadata": {
        "id": "QUaizmy7Quqi"
      }
    },
    {
      "cell_type": "code",
      "source": [
        "# Assuming your data is in a Excel file named 'Your spotify'\n",
        "# Replace 'your_spotify' with the actual file name\n",
        "\n",
        "try:\n",
        "    # Assuming 'popularity' column exists in your spotify\n",
        "    plt.figure(figsize=(10, 6))\n",
        "    sns.histplot(df['popularity'], kde=True)  # Use histplot for histograms\n",
        "    plt.title('Distribution of Track Popularity')\n",
        "    plt.xlabel('Popularity')\n",
        "    plt.ylabel('Frequency')\n",
        "    plt.show()\n",
        "except KeyError:\n",
        "    print(\"Error: 'popularity' column not found. Please check your column names.\")\n",
        "except Exception as e:\n",
        "    print(f\"An unexpected error occurred: {e}\")\n"
      ],
      "metadata": {
        "colab": {
          "base_uri": "https://localhost:8080/"
        },
        "id": "eu0q-5McQyvr",
        "outputId": "7829164d-2b43-4cae-9b97-fdbbfb7be523"
      },
      "execution_count": null,
      "outputs": [
        {
          "output_type": "stream",
          "name": "stdout",
          "text": [
            "An unexpected error occurred: name 'plt' is not defined\n"
          ]
        }
      ]
    },
    {
      "cell_type": "markdown",
      "source": [
        "Q3.Is there any relationship between the popularity and the duration of tracks? Explore this using a scatter plot."
      ],
      "metadata": {
        "id": "ta4VqwXSRDtb"
      }
    },
    {
      "cell_type": "code",
      "source": [
        "# Assuming your data is in a Excel file named 'Your spotify'\n",
        "# Replace 'your_spotify' with the actual file name\n",
        "\n",
        "try:\n",
        "    # Assuming 'popularity' and 'spotify' columns exist\n",
        "    plt.figure(figsize=(10, 6))\n",
        "    sns.scatterplot(x='popularity', y='duration_ms', data=df)\n",
        "    plt.title('Relationship between Popularity and Duration of Tracks')\n",
        "    plt.xlabel('Popularity')\n",
        "    plt.ylabel('Duration (ms)')\n",
        "    plt.show()\n",
        "except KeyError:\n",
        "    print(\"Error: 'popularity' or 'duration_ms' column not found. Please check your column names.\")\n",
        "except Exception as e:\n",
        "    print(f\"An unexpected error occurred: {e}\")\n"
      ],
      "metadata": {
        "colab": {
          "base_uri": "https://localhost:8080/"
        },
        "id": "gpWqCA_eRJ8T",
        "outputId": "cf3feb09-67ab-4176-ca24-d9daf29e9d02"
      },
      "execution_count": null,
      "outputs": [
        {
          "output_type": "stream",
          "name": "stdout",
          "text": [
            "An unexpected error occurred: name 'plt' is not defined\n"
          ]
        }
      ]
    },
    {
      "cell_type": "markdown",
      "source": [
        "Q4.which artist has the highest number of tracks in the dataset? Display the count of tracks for each artist using\n",
        "a countplot."
      ],
      "metadata": {
        "id": "Ina-eHHrRc1Z"
      }
    },
    {
      "cell_type": "code",
      "source": [
        "# Assuming your data is in a Excel file named 'Your spotify'\n",
        "# Replace 'your_spotify' with the actual file name\n",
        "\n",
        "try:\n",
        "    # Assuming 'artist_name' column exists\n",
        "    artist_track_counts = df['artist_name'].value_counts()\n",
        "    print(artist_track_counts)\n",
        "\n",
        "    # Find the artist with the highest number of tracks\n",
        "    highest_track_artist = artist_track_counts.index[0]\n",
        "    highest_track_count = artist_track_counts.iloc[0]\n",
        "    print(f\"\\nArtist with the highest number of tracks: {highest_track_artist} ({highest_track_count} tracks)\")\n",
        "\n",
        "    # Visualize using a countplot (adjust figure size as needed)\n",
        "    plt.figure(figsize=(12, 6))\n",
        "    sns.countplot(y='artist_name', data=df, order=df['artist_name'].value_counts().index)\n",
        "    plt.title('Number of Tracks per Artist')\n",
        "    plt.xlabel('Number of Tracks')\n",
        "    plt.ylabel('Artist Name')\n",
        "    plt.show()\n",
        "\n",
        "except KeyError:\n",
        "    print(\"Error: 'artist_name' column not found. Please check your column names.\")\n",
        "except Exception as e:\n",
        "    print(f\"An unexpected error occurred: {e}\")\n"
      ],
      "metadata": {
        "colab": {
          "base_uri": "https://localhost:8080/"
        },
        "id": "89ZpFKm0Ri5D",
        "outputId": "b98ecb9c-03da-47d8-d2ae-2490117b519b"
      },
      "execution_count": null,
      "outputs": [
        {
          "output_type": "stream",
          "name": "stdout",
          "text": [
            "An unexpected error occurred: name 'df' is not defined\n"
          ]
        }
      ]
    },
    {
      "cell_type": "markdown",
      "source": [
        "Q5. What are the top 5 least popular tracks in the dataset? Provide the artist name and track name for each?"
      ],
      "metadata": {
        "id": "6C_mwhHFRy1_"
      }
    },
    {
      "cell_type": "code",
      "source": [
        "# Assuming your data is in a Excel file named 'Your spotify'\n",
        "# Replace 'your_spotify' with the actual file name\n",
        "\n",
        "try:\n",
        "    # Assuming 'popularity', 'artist_name', and 'track_name' columns exist\n",
        "    least_popular_tracks = df.nsmallest(5, 'popularity')[['artist_name', 'track_name', 'popularity']]\n",
        "    print(least_popular_tracks)\n",
        "except KeyError:\n",
        "    print(\"Error: 'popularity', 'artist_name', or 'track_name' column not found. Please check your column names.\")\n",
        "except Exception as e:\n",
        "    print(f\"An unexpected error occurred: {e}\")\n"
      ],
      "metadata": {
        "colab": {
          "base_uri": "https://localhost:8080/"
        },
        "id": "8GATa2O7R3mO",
        "outputId": "f7981138-dbb9-4af9-f15d-31f51d249519"
      },
      "execution_count": null,
      "outputs": [
        {
          "output_type": "stream",
          "name": "stdout",
          "text": [
            "An unexpected error occurred: name 'df' is not defined\n"
          ]
        }
      ]
    },
    {
      "cell_type": "markdown",
      "source": [
        "Q6.Among the top 5 most popular artists, which artist has the highest popularity on average? Calculate and\n",
        "display the average popularity for each artist."
      ],
      "metadata": {
        "id": "GIaA5QW5SCPJ"
      }
    },
    {
      "cell_type": "code",
      "source": [
        "# Assuming your data is in a Excel file named 'Your spotify'\n",
        "# Replace 'your_spotify' with the actual file name\n",
        "\n",
        "try:\n",
        "    # Assuming 'artist_name' and 'popularity' columns exist\n",
        "    top_5_artists = df['artist_name'].value_counts().head(5).index\n",
        "    artist_average_popularity = {}\n",
        "\n",
        "    for artist in top_5_artists:\n",
        "        artist_data = df[df['artist_name'] == artist]\n",
        "        average_popularity = artist_data['popularity'].mean()\n",
        "        artist_average_popularity[artist] = average_popularity\n",
        "\n",
        "    print(\"Average popularity for top 5 artists:\")\n",
        "    for artist, popularity in artist_average_popularity.items():\n",
        "        print(f\"{artist}: {popularity}\")\n",
        "\n",
        "    # Find the artist with the highest average popularity\n",
        "    highest_popularity_artist = max(artist_average_popularity, key=artist_average_popularity.get)\n",
        "    print(f\"\\nThe artist with the highest average popularity among the top 5 is: {highest_popularity_artist}\")\n",
        "\n",
        "except KeyError:\n",
        "    print(\"Error: 'artist_name' or 'popularity' column not found. Please check your column names.\")\n",
        "except Exception as e:\n",
        "    print(f\"An unexpected error occurred: {e}\")\n"
      ],
      "metadata": {
        "colab": {
          "base_uri": "https://localhost:8080/"
        },
        "id": "G3Gyjui6SKtW",
        "outputId": "0752f5fe-12b5-4b90-db5b-378225baccf9"
      },
      "execution_count": null,
      "outputs": [
        {
          "output_type": "stream",
          "name": "stdout",
          "text": [
            "An unexpected error occurred: name 'df' is not defined\n"
          ]
        }
      ]
    },
    {
      "cell_type": "markdown",
      "source": [
        "Q7.For the top 5 most popular artists, what are their most popular tracks? List the track name for each artist."
      ],
      "metadata": {
        "id": "VxwFvTMTSVs3"
      }
    },
    {
      "cell_type": "code",
      "source": [
        "# Assuming your data is in a Excel file named 'Your spotify'\n",
        "# Replace 'your_spotify' with the actual file name\n",
        "\n",
        "try:\n",
        "    # Assuming 'artist_name', 'track_name', and 'popularity' columns exist\n",
        "    top_5_artists = df['artist_name'].value_counts().head(5).index\n",
        "    most_popular_tracks = {}\n",
        "\n",
        "    for artist in top_5_artists:\n",
        "        artist_data = df[df['artist_name'] == artist]\n",
        "        most_popular_track = artist_data.nlargest(1, 'popularity')['track_name'].iloc[0]\n",
        "        most_popular_tracks[artist] = most_popular_track\n",
        "\n",
        "    print(\"Most popular tracks for the top 5 artists:\")\n",
        "    for artist, track in most_popular_tracks.items():\n",
        "        print(f\"{artist}: {track}\")\n",
        "\n",
        "except KeyError:\n",
        "    print(\"Error: 'artist_name', 'track_name', or 'popularity' column not found. Please check your column names.\")\n",
        "except Exception as e:\n",
        "    print(f\"An unexpected error occurred: {e}\")\n"
      ],
      "metadata": {
        "colab": {
          "base_uri": "https://localhost:8080/"
        },
        "id": "tckSY9USScSM",
        "outputId": "dbe05aeb-bb16-4f09-c695-c88d98c8aef9"
      },
      "execution_count": null,
      "outputs": [
        {
          "output_type": "stream",
          "name": "stdout",
          "text": [
            "An unexpected error occurred: name 'df' is not defined\n"
          ]
        }
      ]
    },
    {
      "cell_type": "markdown",
      "source": [
        "Q8.Visualize relationships between multiple numerical variables simultaneously using a pair plot."
      ],
      "metadata": {
        "id": "ufqpa-mvSoGi"
      }
    },
    {
      "cell_type": "code",
      "source": [
        "# Assuming your data is in a Excel file named 'Your spotify'\n",
        "# Replace 'your_spotify' with the actual file name\n",
        "\n",
        "import seaborn as sns\n",
        "import matplotlib.pyplot as plt\n",
        "\n",
        "try:\n",
        "    # Assuming 'popularity', 'duration_ms', and 'danceability' are numerical columns\n",
        "    numerical_cols = ['popularity', 'duration_ms', 'danceability']  # Add other relevant numerical columns\n",
        "    sns.pairplot(df[numerical_cols])\n",
        "    plt.suptitle('Pair Plot of Numerical Variables', y=1.02) # add title to the pair plot\n",
        "    plt.show()\n",
        "except KeyError as e:\n",
        "    print(f\"Error: One or more columns not found in the dataframe: {e}\")\n",
        "except Exception as e:\n",
        "    print(f\"An unexpected error occurred: {e}\")\n"
      ],
      "metadata": {
        "colab": {
          "base_uri": "https://localhost:8080/"
        },
        "id": "QqBnVJ2KSuTS",
        "outputId": "dc36dba6-9572-4012-f597-67120ef97578"
      },
      "execution_count": null,
      "outputs": [
        {
          "output_type": "stream",
          "name": "stdout",
          "text": [
            "An unexpected error occurred: name 'df' is not defined\n"
          ]
        }
      ]
    },
    {
      "cell_type": "markdown",
      "source": [
        "Q9.Does the duration of tracks vary significantly across different artists? Explore this visually using a box plot or\n",
        "violin plot."
      ],
      "metadata": {
        "id": "RAbDGOrwS2LA"
      }
    },
    {
      "cell_type": "code",
      "source": [
        "# Assuming your data is in a Excel file named 'Your spotify'\n",
        "# Replace 'your_spotify' with the actual file name\n",
        "\n",
        "try:\n",
        "    # Assuming 'artist_name' and 'duration_ms' columns exist\n",
        "    plt.figure(figsize=(12, 6))\n",
        "    sns.boxplot(x='artist_name', y='duration_ms', data=df)\n",
        "    plt.title('Duration of Tracks Across Artists (Box Plot)')\n",
        "    plt.xlabel('Artist Name')\n",
        "    plt.ylabel('Duration (ms)')\n",
        "    plt.xticks(rotation=45, ha='right')  # Rotate x-axis labels for readability\n",
        "    plt.tight_layout()\n",
        "    plt.show()\n",
        "\n",
        "    plt.figure(figsize=(12, 6))\n",
        "    sns.violinplot(x='artist_name', y='duration_ms', data=df)\n",
        "    plt.title('Duration of Tracks Across Artists (Violin Plot)')\n",
        "    plt.xlabel('Artist Name')\n",
        "    plt.ylabel('Duration (ms)')\n",
        "    plt.xticks(rotation=45, ha='right')  # Rotate x-axis labels for readability\n",
        "    plt.tight_layout()\n",
        "    plt.show()\n",
        "\n",
        "except KeyError:\n",
        "    print(\"Error: 'artist_name' or 'duration_ms' column not found. Please check your column names.\")\n",
        "except Exception as e:\n",
        "    print(f\"An unexpected error occurred: {e}\")\n"
      ],
      "metadata": {
        "colab": {
          "base_uri": "https://localhost:8080/",
          "height": 54
        },
        "id": "iJhhR4BIS7Ko",
        "outputId": "167845b3-3df1-438e-e3ab-54801b26aac1"
      },
      "execution_count": null,
      "outputs": [
        {
          "output_type": "stream",
          "name": "stdout",
          "text": [
            "An unexpected error occurred: name 'df' is not defined\n"
          ]
        },
        {
          "output_type": "display_data",
          "data": {
            "text/plain": [
              "<Figure size 1200x600 with 0 Axes>"
            ]
          },
          "metadata": {}
        }
      ]
    },
    {
      "cell_type": "markdown",
      "source": [
        "Q10.How does the distribution of track popularity vary for different artists? Visualize this using a swarm plot or a\n",
        "violin plot."
      ],
      "metadata": {
        "id": "e_N3VpTRTFc2"
      }
    },
    {
      "cell_type": "code",
      "source": [
        "# Assuming your data is in a Excel file named 'Your spotify'\n",
        "# Replace 'your_spotify' with the actual file name\n",
        "\n",
        "try:\n",
        "    # Assuming 'artist_name' and 'popularity' columns exist\n",
        "    plt.figure(figsize=(12, 6))\n",
        "    sns.swarmplot(x='artist_name', y='popularity', data=df)\n",
        "    plt.title('Distribution of Track Popularity Across Artists (Swarm Plot)')\n",
        "    plt.xlabel('Artist Name')\n",
        "    plt.ylabel('Popularity')\n",
        "    plt.xticks(rotation=45, ha='right')\n",
        "    plt.tight_layout()\n",
        "    plt.show()\n",
        "\n",
        "    plt.figure(figsize=(12, 6))\n",
        "    sns.violinplot(x='artist_name', y='popularity', data=df)\n",
        "    plt.title('Distribution of Track Popularity Across Artists (Violin Plot)')\n",
        "    plt.xlabel('Artist Name')\n",
        "    plt.ylabel('Popularity')\n",
        "    plt.xticks(rotation=45, ha='right')\n",
        "    plt.tight_layout()\n",
        "    plt.show()\n",
        "\n",
        "except KeyError:\n",
        "    print(\"Error: 'artist_name' or 'popularity' column not found. Please check your column names.\")\n",
        "except Exception as e:\n",
        "    print(f\"An unexpected error occurred: {e}\")\n"
      ],
      "metadata": {
        "colab": {
          "base_uri": "https://localhost:8080/",
          "height": 54
        },
        "id": "6EJ-oAnnTK5k",
        "outputId": "0986f1b3-4442-44d2-a7a2-ef82b6975a29"
      },
      "execution_count": null,
      "outputs": [
        {
          "output_type": "stream",
          "name": "stdout",
          "text": [
            "An unexpected error occurred: name 'df' is not defined\n"
          ]
        },
        {
          "output_type": "display_data",
          "data": {
            "text/plain": [
              "<Figure size 1200x600 with 0 Axes>"
            ]
          },
          "metadata": {}
        }
      ]
    }
  ]
}